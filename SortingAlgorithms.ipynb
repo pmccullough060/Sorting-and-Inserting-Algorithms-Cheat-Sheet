{
 "metadata": {
  "language_info": {
   "codemirror_mode": {
    "name": "ipython",
    "version": 3
   },
   "file_extension": ".py",
   "mimetype": "text/x-python",
   "name": "python",
   "nbconvert_exporter": "python",
   "pygments_lexer": "ipython3",
   "version": "3.9.0-final"
  },
  "orig_nbformat": 2,
  "kernelspec": {
   "name": "python3",
   "display_name": "Python 3.9.0 64-bit",
   "metadata": {
    "interpreter": {
     "hash": "f7415f68ff91653c8989d56ed941cbfd0a7b86f319a56cd0029134ddfcceec2c"
    }
   }
  }
 },
 "nbformat": 4,
 "nbformat_minor": 2,
 "cells": [
  {
   "source": [
    "%config IPCompleter.greedy=True"
   ],
   "cell_type": "code",
   "metadata": {},
   "execution_count": 98,
   "outputs": []
  },
  {
   "source": [
    "## Sorting Data #\n",
    "Placing data into some particular order, such as ascending or descending is one of the most important computing applications. Sorting is a computationally intensive process and while all sorting methods achieve the same result their performance will be different.\n",
    "\n",
    "Lets consider the following sorting algorithms:\n",
    "- Bubble Sort\n",
    "- Selection Sort\n",
    "- Insertion Sort\n",
    "- Quicksort"
   ],
   "cell_type": "markdown",
   "metadata": {}
  },
  {
   "cell_type": "code",
   "execution_count": null,
   "metadata": {},
   "outputs": [],
   "source": []
  },
  {
   "source": [
    "### Bubble Sort ###\n",
    "As elements are sorted they gradually \"bubble\" (or rise) to their proper location in the array, like bubbles rising in a glass. \n",
    "\n",
    "#### How it works: ####\n",
    "- This algortihm repeatedly compares adjacent elements of an array. \n",
    "- It consists of two nested loops, for each element in the array, it passes through the array (inner loop) repeatedly swapping adjacent values. \n",
    "- Initially the first and second elements of the array are compared and swapped if the second is smaller than the first.\n",
    "- Next the second and third element are compared and swapped if needed, and so on.\n",
    "- After one interation of the inner loop a new sorted value is \"pushed\" to the end of the array.\n",
    "- After n passes, the last n items in the array are sorted.\n"
   ],
   "cell_type": "markdown",
   "metadata": {}
  },
  {
   "cell_type": "code",
   "execution_count": 99,
   "metadata": {},
   "outputs": [
    {
     "output_type": "stream",
     "name": "stdout",
     "text": [
      "[1, 2, 3, 4, 5, 6]\n"
     ]
    }
   ],
   "source": [
    "def BubbleSort(sortlist):\n",
    "    n = len(sortarray) #Getting the length of the array\n",
    "    flag = True\n",
    "    while flag:\n",
    "    #for i in range(n-1): #Traverse through all elements in the array\n",
    "        flag = False\n",
    "        for j in range(0, n-1): #traverse the array from 0 to n-i-1, swap if element is greater than next\n",
    "            if sortarray[j] > sortarray[j+1]:\n",
    "                temp = sortarray[j]\n",
    "                sortarray[j] = sortarray[j+1]\n",
    "                sortarray[j+1] = temp\n",
    "                flag = True\n",
    "\n",
    "sortarray = [4, 2, 1, 3, 6, 5 ]\n",
    "BubbleSort(sortarray)\n",
    "print(sortarray)"
   ]
  },
  {
   "source": [],
   "cell_type": "markdown",
   "metadata": {}
  }
 ]
}