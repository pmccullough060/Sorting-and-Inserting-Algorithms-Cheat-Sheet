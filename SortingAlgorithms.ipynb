{
 "metadata": {
  "language_info": {
   "codemirror_mode": {
    "name": "ipython",
    "version": 3
   },
   "file_extension": ".py",
   "mimetype": "text/x-python",
   "name": "python",
   "nbconvert_exporter": "python",
   "pygments_lexer": "ipython3",
   "version": "3.9.0-final"
  },
  "orig_nbformat": 2,
  "kernelspec": {
   "name": "python3",
   "display_name": "Python 3.9.0 64-bit",
   "metadata": {
    "interpreter": {
     "hash": "f7415f68ff91653c8989d56ed941cbfd0a7b86f319a56cd0029134ddfcceec2c"
    }
   }
  }
 },
 "nbformat": 4,
 "nbformat_minor": 2,
 "cells": [
  {
   "source": [
    "%config IPCompleter.greedy=True"
   ],
   "cell_type": "code",
   "metadata": {},
   "execution_count": 98,
   "outputs": []
  },
  {
   "source": [
    "## Sorting Data ##\n",
    "Placing data into some particular order, such as ascending or descending is one of the most important computing applications. Sorting is a computationally intensive process and while all sorting methods achieve the same result their performance will be different.\n",
    "\n",
    "Lets consider the following sorting algorithms:\n",
    "- Bubble Sort\n",
    "- Selection Sort\n",
    "- Insertion Sort\n",
    "- Quicksort"
   ],
   "cell_type": "markdown",
   "metadata": {}
  },
  {
   "source": [
    "### Bubble Sort ###\n",
    "As elements are sorted they gradually \"bubble\" (or rise) to their proper location in the array, like bubbles rising in a glass.\n",
    "\n",
    "#### How it works: ####\n",
    "- This algortihm repeatedly compares adjacent elements of an array.\n",
    "- It consists of two nested loops, for each element in the array, it passes through the array (inner loop) repeatedly swapping adjacent values.\n",
    "- Initially the first and second elements of the array are compared and swapped if the second is smaller than the first.\n",
    "- Next the second and third element are compared and swapped if needed, and so on.\n",
    "- After one interation of the inner loop a new sorted value is \"pushed\" to the end of the array.\n",
    "- After n passes, the last n items in the array are sorted"
   ],
   "cell_type": "markdown",
   "metadata": {}
  },
  {
   "cell_type": "code",
   "execution_count": 11,
   "metadata": {},
   "outputs": [
    {
     "output_type": "stream",
     "name": "stdout",
     "text": [
      "[1, 2, 3, 4, 5, 6]\n"
     ]
    }
   ],
   "source": [
    "def BubbleSort(sortlist):\n",
    "    n = len(sortarray) #Getting the length of the array\n",
    "    flag = True\n",
    "    while flag:\n",
    "        flag = False\n",
    "        for j in range(0, n-1): #traverses the array, swap if element is greater than next\n",
    "            if sortarray[j] > sortarray[j+1]:\n",
    "                temp = sortarray[j]\n",
    "                sortarray[j] = sortarray[j+1]\n",
    "                sortarray[j+1] = temp\n",
    "                flag = True\n",
    "                \n",
    "sortarray = [4, 2, 1, 3, 6, 5 ]\n",
    "BubbleSort(sortarray)\n",
    "print(sortarray)"
   ]
  },
  {
   "source": [
    "### Selection Sort ###\n",
    "Simple, but inefficient sorting algorithm.\n",
    "\n",
    "#### How it works: ####\n",
    "- The first iteration selects teh smallest element in the array and swaps it with the first element.\n",
    "- The second iteration selects the second-smallest item (smallest item of the remaining elements) and swaps it with the second element.\n",
    "- The algorithm continues until the last iteration selects the second-to-last index, leaving the largest element in the last index.\n",
    "\n",
    "\n"
   ],
   "cell_type": "markdown",
   "metadata": {}
  },
  {
   "cell_type": "code",
   "execution_count": 17,
   "metadata": {},
   "outputs": [
    {
     "output_type": "stream",
     "name": "stdout",
     "text": [
      "[1, 2, 3, 4, 5, 6]\n"
     ]
    }
   ],
   "source": [
    "def SelectionSort(sortarray):\n",
    "    n = len(sortarray)\n",
    "    for i in range(n-1):\n",
    "        smallestindex = i #first index of remaining array\n",
    "        for j in range(i+1, n): # looping over the remaining array elements to find the smallest element\n",
    "            if sortarray[smallestindex] > sortarray[j]:\n",
    "                smallestindex = j\n",
    "\n",
    "        temp = sortarray[i] #swapping the smallest element into position\n",
    "        sortarray[i] = sortarray[smallestindex]\n",
    "        sortarray[smallestindex] = temp\n",
    "\n",
    "sortarray = [4, 2, 1, 3, 6, 5 ]\n",
    "SelectionSort(sortarray)\n",
    "print(sortarray)\n"
   ]
  },
  {
   "source": [
    "### qInsertion Sort ###\n",
    "Like selection sort this is another simple but inefficient algorithm\n",
    "\n",
    "#### How it works: ####\n",
    "- The first iteration of this algorithm takes the second element in the array and, if it's less than the first element, swaps it with the first element.\n",
    "- The second iteration looks at the third element and inserts in into the correct position with respect to the first two, so all three are in order.\n",
    "- at the ith iteration of this alogrithm, the first i elements in the original array will be sorted."
   ],
   "cell_type": "markdown",
   "metadata": {}
  },
  {
   "cell_type": "code",
   "execution_count": 27,
   "metadata": {},
   "outputs": [
    {
     "output_type": "stream",
     "name": "stdout",
     "text": [
      "[1, 2, 3, 4, 5, 6]\n"
     ]
    }
   ],
   "source": [
    "def InsertionSort(sortarray):\n",
    "    n= len(sortarray)\n",
    "    for i in range(1, n):\n",
    "        insert = sortarray[i] #storing the value of the current element\n",
    "        moveitem = i #location to place element\n",
    "\n",
    "        while moveitem > 0 and sortarray[moveitem - 1] > insert: #\n",
    "            sortarray[moveitem] = sortarray[moveitem - 1]\n",
    "            moveitem = moveitem - 1\n",
    "\n",
    "        sortarray[moveitem] = insert  \n",
    "\n",
    "sortarray = [4, 2, 1, 3, 6, 5 ]\n",
    "InsertionSort(sortarray)\n",
    "print(sortarray)"
   ]
  }
 ]
}